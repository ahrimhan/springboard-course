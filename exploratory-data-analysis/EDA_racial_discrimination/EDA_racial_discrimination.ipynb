{
 "cells": [
  {
   "cell_type": "markdown",
   "metadata": {},
   "source": [
    " # Examining Racial Discrimination in the US Job Market Using EDA: Submitted by Ahrim Han (2019/2/27)\n",
    "\n",
    " ### Background\n",
    " Racial discrimination continues to be pervasive in cultures throughout the world. Researchers examined the level of racial discrimination in the United States labor market by randomly assigning identical résumés to black-sounding or white-sounding names and observing the impact on requests for interviews from employers.\n",
    "\n",
    " ### Data\n",
    " In the dataset provided, each row represents a resume. The 'race' column has two values, 'b' and 'w', indicating black-sounding and white-sounding. The column 'call' has two values, 1 and 0, indicating whether the resume received a call from employers or not.\n",
    "\n",
    " Note that the 'b' and 'w' values in race are assigned randomly to the resumes when presented to the employer."
   ]
  },
  {
   "cell_type": "markdown",
   "metadata": {},
   "source": [
    " ### Exercises\n",
    " You will perform a statistical analysis to establish whether race has a significant impact on the rate of callbacks for resumes.\n",
    "\n",
    " Answer the following questions **in this notebook below and submit to your Github account**.\n",
    "\n",
    "    1. What test is appropriate for this problem? Does CLT apply?\n",
    "    2. What are the null and alternate hypotheses?\n",
    "    3. Compute margin of error, confidence interval, and p-value. Try using both the bootstrapping and the frequentist statistical approaches.\n",
    "    4. Write a story describing the statistical significance in the context or the original problem.\n",
    "    5. Does your analysis mean that race/name is the most important factor in callback success? Why or why not? If not, how would you amend your analysis?\n",
    "\n",
    " You can include written notes in notebook cells using Markdown:\n",
    "    - In the control panel at the top, choose Cell > Cell Type > Markdown\n",
    "    - Markdown syntax: http://nestacms.com/docs/creating-content/markdown-cheat-sheet\n",
    "\n",
    " #### Resources\n",
    " + Experiment information and data source: http://www.povertyactionlab.org/evaluation/discrimination-job-market-united-states\n",
    " + Scipy statistical methods: http://docs.scipy.org/doc/scipy/reference/stats.html\n",
    " + Markdown syntax: http://nestacms.com/docs/creating-content/markdown-cheat-sheet\n",
    " + Formulas for the Bernoulli distribution: https://en.wikipedia.org/wiki/Bernoulli_distribution"
   ]
  },
  {
   "cell_type": "code",
   "execution_count": 2,
   "metadata": {},
   "outputs": [],
   "source": [
    "import pandas as pd\n",
    "import numpy as np\n",
    "from scipy import stats\n",
    "import matplotlib.pyplot as plt\n",
    "import seaborn as sns\n",
    "import statsmodels.stats.api as sms\n",
    "\n",
    "\n",
    "#import sys\n",
    "#sys.path.insert(0, '../../EDA_human_temperature/src/')\n",
    "#import EDA_human_temperature\n"
   ]
  },
  {
   "cell_type": "code",
   "execution_count": 3,
   "metadata": {},
   "outputs": [],
   "source": [
    "data = pd.io.stata.read_stata('data/us_job_market_discrimination.dta')\n"
   ]
  },
  {
   "cell_type": "code",
   "execution_count": 4,
   "metadata": {},
   "outputs": [
    {
     "data": {
      "text/html": [
       "<div>\n",
       "<style scoped>\n",
       "    .dataframe tbody tr th:only-of-type {\n",
       "        vertical-align: middle;\n",
       "    }\n",
       "\n",
       "    .dataframe tbody tr th {\n",
       "        vertical-align: top;\n",
       "    }\n",
       "\n",
       "    .dataframe thead th {\n",
       "        text-align: right;\n",
       "    }\n",
       "</style>\n",
       "<table border=\"1\" class=\"dataframe\">\n",
       "  <thead>\n",
       "    <tr style=\"text-align: right;\">\n",
       "      <th></th>\n",
       "      <th>id</th>\n",
       "      <th>ad</th>\n",
       "      <th>education</th>\n",
       "      <th>ofjobs</th>\n",
       "      <th>yearsexp</th>\n",
       "      <th>honors</th>\n",
       "      <th>volunteer</th>\n",
       "      <th>military</th>\n",
       "      <th>empholes</th>\n",
       "      <th>occupspecific</th>\n",
       "      <th>...</th>\n",
       "      <th>compreq</th>\n",
       "      <th>orgreq</th>\n",
       "      <th>manuf</th>\n",
       "      <th>transcom</th>\n",
       "      <th>bankreal</th>\n",
       "      <th>trade</th>\n",
       "      <th>busservice</th>\n",
       "      <th>othservice</th>\n",
       "      <th>missind</th>\n",
       "      <th>ownership</th>\n",
       "    </tr>\n",
       "  </thead>\n",
       "  <tbody>\n",
       "    <tr>\n",
       "      <th>0</th>\n",
       "      <td>b</td>\n",
       "      <td>1</td>\n",
       "      <td>4</td>\n",
       "      <td>2</td>\n",
       "      <td>6</td>\n",
       "      <td>0</td>\n",
       "      <td>0</td>\n",
       "      <td>0</td>\n",
       "      <td>1</td>\n",
       "      <td>17</td>\n",
       "      <td>...</td>\n",
       "      <td>1.0</td>\n",
       "      <td>0.0</td>\n",
       "      <td>1.0</td>\n",
       "      <td>0.0</td>\n",
       "      <td>0.0</td>\n",
       "      <td>0.0</td>\n",
       "      <td>0.0</td>\n",
       "      <td>0.0</td>\n",
       "      <td>0.0</td>\n",
       "      <td></td>\n",
       "    </tr>\n",
       "    <tr>\n",
       "      <th>1</th>\n",
       "      <td>b</td>\n",
       "      <td>1</td>\n",
       "      <td>3</td>\n",
       "      <td>3</td>\n",
       "      <td>6</td>\n",
       "      <td>0</td>\n",
       "      <td>1</td>\n",
       "      <td>1</td>\n",
       "      <td>0</td>\n",
       "      <td>316</td>\n",
       "      <td>...</td>\n",
       "      <td>1.0</td>\n",
       "      <td>0.0</td>\n",
       "      <td>1.0</td>\n",
       "      <td>0.0</td>\n",
       "      <td>0.0</td>\n",
       "      <td>0.0</td>\n",
       "      <td>0.0</td>\n",
       "      <td>0.0</td>\n",
       "      <td>0.0</td>\n",
       "      <td></td>\n",
       "    </tr>\n",
       "    <tr>\n",
       "      <th>2</th>\n",
       "      <td>b</td>\n",
       "      <td>1</td>\n",
       "      <td>4</td>\n",
       "      <td>1</td>\n",
       "      <td>6</td>\n",
       "      <td>0</td>\n",
       "      <td>0</td>\n",
       "      <td>0</td>\n",
       "      <td>0</td>\n",
       "      <td>19</td>\n",
       "      <td>...</td>\n",
       "      <td>1.0</td>\n",
       "      <td>0.0</td>\n",
       "      <td>1.0</td>\n",
       "      <td>0.0</td>\n",
       "      <td>0.0</td>\n",
       "      <td>0.0</td>\n",
       "      <td>0.0</td>\n",
       "      <td>0.0</td>\n",
       "      <td>0.0</td>\n",
       "      <td></td>\n",
       "    </tr>\n",
       "    <tr>\n",
       "      <th>3</th>\n",
       "      <td>b</td>\n",
       "      <td>1</td>\n",
       "      <td>3</td>\n",
       "      <td>4</td>\n",
       "      <td>6</td>\n",
       "      <td>0</td>\n",
       "      <td>1</td>\n",
       "      <td>0</td>\n",
       "      <td>1</td>\n",
       "      <td>313</td>\n",
       "      <td>...</td>\n",
       "      <td>1.0</td>\n",
       "      <td>0.0</td>\n",
       "      <td>1.0</td>\n",
       "      <td>0.0</td>\n",
       "      <td>0.0</td>\n",
       "      <td>0.0</td>\n",
       "      <td>0.0</td>\n",
       "      <td>0.0</td>\n",
       "      <td>0.0</td>\n",
       "      <td></td>\n",
       "    </tr>\n",
       "    <tr>\n",
       "      <th>4</th>\n",
       "      <td>b</td>\n",
       "      <td>1</td>\n",
       "      <td>3</td>\n",
       "      <td>3</td>\n",
       "      <td>22</td>\n",
       "      <td>0</td>\n",
       "      <td>0</td>\n",
       "      <td>0</td>\n",
       "      <td>0</td>\n",
       "      <td>313</td>\n",
       "      <td>...</td>\n",
       "      <td>1.0</td>\n",
       "      <td>1.0</td>\n",
       "      <td>0.0</td>\n",
       "      <td>0.0</td>\n",
       "      <td>0.0</td>\n",
       "      <td>0.0</td>\n",
       "      <td>0.0</td>\n",
       "      <td>1.0</td>\n",
       "      <td>0.0</td>\n",
       "      <td>Nonprofit</td>\n",
       "    </tr>\n",
       "  </tbody>\n",
       "</table>\n",
       "<p>5 rows × 65 columns</p>\n",
       "</div>"
      ],
      "text/plain": [
       "  id ad  education  ofjobs  yearsexp  honors  volunteer  military  empholes  \\\n",
       "0  b  1          4       2         6       0          0         0         1   \n",
       "1  b  1          3       3         6       0          1         1         0   \n",
       "2  b  1          4       1         6       0          0         0         0   \n",
       "3  b  1          3       4         6       0          1         0         1   \n",
       "4  b  1          3       3        22       0          0         0         0   \n",
       "\n",
       "   occupspecific  ...  compreq  orgreq  manuf  transcom  bankreal trade  \\\n",
       "0             17  ...      1.0     0.0    1.0       0.0       0.0   0.0   \n",
       "1            316  ...      1.0     0.0    1.0       0.0       0.0   0.0   \n",
       "2             19  ...      1.0     0.0    1.0       0.0       0.0   0.0   \n",
       "3            313  ...      1.0     0.0    1.0       0.0       0.0   0.0   \n",
       "4            313  ...      1.0     1.0    0.0       0.0       0.0   0.0   \n",
       "\n",
       "  busservice othservice  missind  ownership  \n",
       "0        0.0        0.0      0.0             \n",
       "1        0.0        0.0      0.0             \n",
       "2        0.0        0.0      0.0             \n",
       "3        0.0        0.0      0.0             \n",
       "4        0.0        1.0      0.0  Nonprofit  \n",
       "\n",
       "[5 rows x 65 columns]"
      ]
     },
     "execution_count": 7,
     "metadata": {},
     "output_type": "execute_result"
    }
   ],
   "source": [
    "data.head()\n"
   ]
  },
  {
   "cell_type": "markdown",
   "metadata": {},
   "source": [
    " <div class=\"span5 alert alert-success\">\n",
    " <p>Your answers to Q1 and Q2 here</p>\n",
    " </div>"
   ]
  },
  {
   "cell_type": "markdown",
   "metadata": {},
   "source": [
    " ### 1. What test is appropriate for this problem? Does CLT apply?\n",
    "\n",
    " The problem is to compare the probability of the success in two populations.  <br>\n",
    " A two sample z-test would be appropriate.\n",
    " Given the number of samples ar large (2435 + 2435 = 4870 resumes), the Central Limit Theorem (CLT) can be applied.\n",
    " ### 2. What are the null and alternate hypotheses?\n",
    " We compare the rate of callbacks for resumes of different groups of white-sounding names and black-sounding names. <br>\n",
    " The null hypothesis can be set as that the probability of interview request in black population is the same as that in the white population. <br>\n",
    " The alternative hypothesis can be set as that the probability of interview request in black population is **NOT** the same as that in the white population. <br>\n",
    " Let's say that the callback rate for the resumes with white-sounding names is $p_w$ and the callback rate for resumes with black-sounding names is $p_b$. <br>\n",
    "\n",
    " - $H_0$: $p_w$ = $p_b$\n",
    " - $H_1$: $p_w$ $\\neq$ $p_b$  (or $p_w$ > $p_b$)\n",
    " - We chose the significance level at 5% ($\\alpha$ = 0.05).\n",
    "\n",
    " Helpful material: [\"comparing two proportions\"](http://biostat.mc.vanderbilt.edu/wiki/pub/Main/AnesShortCourse/HypothesisTestingPart2.pdf)"
   ]
  },
  {
   "cell_type": "markdown",
   "metadata": {},
   "source": [
    " <div class=\"span5 alert alert-success\">\n",
    " <p> Your solution to Q3 here </p>\n",
    " </div>"
   ]
  },
  {
   "cell_type": "code",
   "execution_count": 6,
   "metadata": {},
   "outputs": [
    {
     "name": "stdout",
     "output_type": "stream",
     "text": [
      "white calls: 235.0, black calls: 157.0, total calls: 392.0\n",
      "white-sounding total: 2435, black-sounding total: 2435, total resumes: 4870\n",
      "probability of interview requests in white ($p_w$): 0.097\n",
      "probability of interview requests in black ($p_b$): 0.064\n",
      "$p_w$ - $p_b$ : 0.032032854209445585\n",
      "standard error (SE): 0.0077833705866767544\n"
     ]
    }
   ],
   "source": [
    "w = data[data.race=='w']\n",
    "b = data[data.race=='b']\n",
    "\n",
    "# number of callbacks for black-sounding names\n",
    "white_calls = np.sum(data[data.race=='w'].call)\n",
    "black_calls = np.sum(data[data.race=='b'].call)\n",
    "total_calls = white_calls + black_calls\n",
    "print(\"white calls: {}, black calls: {}, total calls: {}\".format(white_calls, black_calls, total_calls))\n",
    "# total resumes of black-sounding and white-sounding\n",
    "total_white_sounding = len(w)\n",
    "total_black_sounding = len(b)\n",
    "total_resumes = total_white_sounding + total_black_sounding\n",
    "print(\"white-sounding total: {}, black-sounding total: {}, total resumes: {}\".format(total_white_sounding, total_black_sounding, total_resumes))\n",
    "#probability of interview requests in black population and white population\n",
    "p_w = white_calls / total_white_sounding\n",
    "p_b = black_calls / total_black_sounding\n",
    "\n",
    "print(\"probability of interview requests in white ($p_w$): {:.3f}\".format(p_w))\n",
    "print(\"probability of interview requests in black ($p_b$): {:.3f}\".format(p_b))\n",
    "\n",
    "std_error = np.sqrt((p_w*(1-p_w)/total_white_sounding) + (p_b*(1-p_b)/total_black_sounding))\n",
    "empirical_diff = p_w - p_b\n",
    "print(\"$p_w$ - $p_b$ : {}\".format(empirical_diff))\n",
    "print(\"standard error (SE): {}\".format(std_error))\n"
   ]
  },
  {
   "cell_type": "markdown",
   "metadata": {},
   "source": [
    " ### 3. Compute margin of error, confidence interval, and p-value.\n",
    " Try using both the bootstrapping and the frequentist statistical approaches.\n",
    " \n",
    " **3.1. Bootstrap hypothesis test**"
   ]
  },
  {
   "cell_type": "code",
   "execution_count": 7,
   "metadata": {},
   "outputs": [
    {
     "name": "stdout",
     "output_type": "stream",
     "text": [
      "[ 0.0073922   0.00082136 -0.00246407 ...  0.00082136  0.00492813\n",
      "  0.00985626]\n"
     ]
    }
   ],
   "source": [
    "def diff_rate(data1, data2):\n",
    "\t# Function to calculate the difference of the rates between two data samples\n",
    "\tp1 = np.sum(data1)/len(data1)\n",
    "\tp2 = np.sum(data2)/len(data2)\n",
    "\treturn p1 - p2\n",
    "\n",
    "# Draw bootstrap replicates.\n",
    "# Permutation of two samples.\t\n",
    "def draw_perm_reps(data1, data2, func, size):\n",
    "\t\n",
    "\t# Initialize array of replicates: bs_replicates\n",
    "\tperm_replicates = np.empty(size)\n",
    "\tdata = np.concatenate((data1, data2))\n",
    "\t\n",
    "\t# Generate replicates\n",
    "\tfor i in range(size):\n",
    "\t\tsample_perm = np.random.permutation(data)\n",
    "\t\tperm_data1 = sample_perm[:len(data1)]\n",
    "\t\tperm_data2 = sample_perm[len(data1):]\n",
    "\t\tperm_replicates[i] = diff_rate(perm_data1, perm_data2)\n",
    "\treturn perm_replicates\n",
    "\n",
    "#We compute the test statistic for each simulated data set.\n",
    "bootstrap_replicates = draw_perm_reps(w.call, b.call, func=diff_rate, size=10000)\n",
    "print(bootstrap_replicates)\n"
   ]
  },
  {
   "cell_type": "code",
   "execution_count": 8,
   "metadata": {},
   "outputs": [
    {
     "name": "stdout",
     "output_type": "stream",
     "text": [
      "Bootstrap approach:\n",
      "95% confidence interval range: [-0.015, 0.016]\n",
      "Margin of error is 0.0152 degrees.\n",
      "p-value = 0.0000000000\n"
     ]
    }
   ],
   "source": [
    "# bootstrap approach: 95% confidence interval, margin of error, p-value\n",
    "print('Bootstrap approach:')\n",
    "bs_ci = np.percentile(bootstrap_replicates, [2.5, 97.5])\n",
    "print('95% confidence interval range: [{:.3f}, {:.3f}]'.format(bs_ci[0], bs_ci[1]))\n",
    "print('Margin of error is {:.4f} degrees.'.format((bs_ci[1]-bs_ci[0])/2))\n",
    "# empirical_diff = p_w - p_b\n",
    "p_val = np.sum(bootstrap_replicates >= empirical_diff) / len(bootstrap_replicates)\n",
    "print('p-value = {:.10f}'.format(p_val))\n"
   ]
  },
  {
   "cell_type": "markdown",
   "metadata": {},
   "source": [
    " ==> Since the $p-$value is much smaller than $\\alpha$ = 0.05, we reject the null hypothesis that the probability of interview request in black population is the same as that in the white population."
   ]
  },
  {
   "cell_type": "markdown",
   "metadata": {},
   "source": [
    " **3.2. Frequentist statistical testing**"
   ]
  },
  {
   "cell_type": "code",
   "execution_count": 9,
   "metadata": {},
   "outputs": [],
   "source": [
    "# Frequentist statistical testing \n",
    "# confidence interval: t-test, z-test\n",
    "def CI_printout(sample, interval = 0.95, method = 't'):\n",
    "\tmean_val = sample.mean()\n",
    "\tn = sample.count()\n",
    "\tstdev = sample.std()\n",
    "\tif method == 't':\n",
    "\t\ttest_stat = stats.t.ppf((interval + 1)/2, n)\n",
    "\telif method == 'z':\n",
    "\t\ttest_stat = stats.norm.ppf((interval + 1)/2)\n",
    "\tlower_bound = mean_val - test_stat * stdev / np.sqrt(n)\n",
    "\tupper_bound = mean_val + test_stat * stdev / np.sqrt(n)\n",
    "\treturn lower_bound, upper_bound\n",
    "\n",
    "\n",
    "# confidence interval: z-test, t-test (ratio comparison)\n",
    "def CI_printout_ratio(data1, data2, interval = 0.95, method = 't'):\n",
    "\tp1 = np.sum(data1)/len(data1)\n",
    "\tp2 = np.sum(data2)/len(data2)\n",
    "\t#ratio-based sample stdev\n",
    "\t# variance: p*(1-p)/n\n",
    "\t# variance of a difference is equal to the sum of the variance (if they are uncorrelated)\n",
    "\tstd_error = np.sqrt((p1*(1-p1)/len(data1)) + (p2*(1-p2)/len(data2)))\n",
    "\t#print(\"standard error (SE): {}\".format(std_error))\n",
    "\tif method == 't':\n",
    "\t\tn = len(data1) + len(data2)\n",
    "\t\ttest_stat = stats.t.ppf((interval + 1)/2, n)\n",
    "\t\tprint(\"t: {}\".format(test_stat))\n",
    "\telif method == 'z':\n",
    "\t\t#ppf: Percent point function (inverse of cdf — percentiles).\n",
    "\t\ttest_stat = stats.norm.ppf((interval + 1)/2)\n",
    "\t\tprint(\"Z: {:.2f}\".format(test_stat))\n",
    "\n",
    "\t# margin of error (error_margin) = test_stat * stdev / sqrt(n)\n",
    "\t# margin of error (error_margin) = test_stat * std_error\n",
    "\t# std_error = stdev / sqrt(n)\n",
    "\t# test_stat = Z = 1.96\n",
    "\t# empirical_diff = p1-p2\n",
    "\terror_margin = test_stat * std_error\n",
    "\tlower_bound = (p1-p2) - (test_stat * std_error)\n",
    "\tupper_bound = (p1-p2) + (test_stat * std_error)\n",
    "\treturn error_margin, lower_bound, upper_bound\n",
    "\n"
   ]
  },
  {
   "cell_type": "code",
   "execution_count": 10,
   "metadata": {},
   "outputs": [
    {
     "name": "stdout",
     "output_type": "stream",
     "text": [
      "Frequentist approach:\n",
      "Z: 1.96\n",
      "95% confidence interval range: [0.017, 0.047]\n",
      "Margin of error is 0.0153 degrees.\n",
      "z_score: 4.11555043573\n",
      "p-value = 0.0000193128\n"
     ]
    }
   ],
   "source": [
    "# Frequentist approach using two-sample z-test: 95% confidence interval, margin of error, p-value\n",
    "print('Frequentist approach:')\n",
    "#Run z test\n",
    "error_margin, lower_bound, upper_bound = CI_printout_ratio(w.call, b.call, 0.95, 'z')\n",
    "print('95% confidence interval range: [{:.3f}, {:.3f}]'.format(lower_bound, upper_bound))\n",
    "print('Margin of error is {:.4f} degrees.'.format(error_margin))\n",
    "z_score = empirical_diff / std_error\n",
    "print(\"z_score: {}\".format(z_score))\n",
    "p_val = stats.norm.sf(abs(z_score)) #one-sided\n",
    "print('p-value = {:.10f}'.format(p_val))\n"
   ]
  },
  {
   "cell_type": "markdown",
   "metadata": {},
   "source": [
    " ==> Since the $p-$value is much smaller than $\\alpha$ = 0.05, we reject the null hypothesis that the probability of interview request in black population is the same as that in the white population."
   ]
  },
  {
   "cell_type": "code",
   "execution_count": 11,
   "metadata": {},
   "outputs": [],
   "source": [
    "#todo: Chi-squared test statistic\n"
   ]
  },
  {
   "cell_type": "markdown",
   "metadata": {},
   "source": [
    " <div class=\"span5 alert alert-success\">\n",
    " <p> Your answers to Q4 and Q5 here </p>\n",
    " </div>"
   ]
  },
  {
   "cell_type": "markdown",
   "metadata": {},
   "source": [
    " ### 4. Write a story describing the statistical significance in the context or the original problem.\n",
    "In this study, we find that the racial discrimnation plays a significant role in the US labor market in terms of getting interview calls. <br>\n",
    "To achieve this result, 4870 resumes containing both black-sounding names and white-sounding names were collected. <br>\n",
    "We observed that 392 candidates out of 4870 received interview calls. There were 157 black-sounding names and 235 white-sounding names in the list of callback candidates. <br>\n",
    "This observation shows that the interview calls are related to races.  <br>\n",
    "To confirm this observation, we carried out two hypothesis tests assuming the null hypothesis that the probability of interview request in black population is the same as that in the white population. <br>\n",
    "We found the $p-$value to be significantly smaller than $\\alpha$=0.05. <br>\n",
    "This means that we can reject the null hypothesis in favor of the alternate hypothesis that the number of interview callbacks do depend on whther the candidate's name is black-sounding or white-sounding. <br>\n",
    "In fact, the difference between the white-sounding resume callback proportion and black-sounding resume callback proportion is statistically significant. <br>\n",
    "The 95% confidence interval for this proportion difference is 0.017 ~ 0.047 using the frequentist statistical testing. <br>\n",
    "The 95% confidence interval for this proportion difference is -0.016 ~ 0.016 using the bootstrap approach."
   ]
  },
  {
   "cell_type": "markdown",
   "metadata": {},
   "source": [
    " ### 5. Does your analysis mean that race/name is the most important factor in callback success? Why or why not? If not, how would you amend your analysis?\n",
    "The analysis does not mean race/name is the most important factor in callback success because we have not yet studied other features.\n",
    "In this work, only the effect of race on the nuber of callbacks was studied.\n",
    "There could be other important factors, such as age, years of experience, sex, and education, that can affect the callback numbers.\n",
    "Therefore, we cannot conclude that the race is the most (and/or only) important factor.\n",
    "In order to find the most important factor, each factor needs to be studied separately and see its effect on the number of callbacks."
   ]
  }
 ],
 "metadata": {
  "file_extension": ".py",
  "kernelspec": {
   "display_name": "Python 3",
   "language": "python",
   "name": "python3"
  },
  "language_info": {
   "codemirror_mode": {
    "name": "ipython",
    "version": 3
   },
   "file_extension": ".py",
   "mimetype": "text/x-python",
   "name": "python",
   "nbconvert_exporter": "python",
   "pygments_lexer": "ipython3",
   "version": "3.6.8"
  },
  "mimetype": "text/x-python",
  "name": "python",
  "npconvert_exporter": "python",
  "pygments_lexer": "ipython3",
  "version": 3
 },
 "nbformat": 4,
 "nbformat_minor": 2
}
